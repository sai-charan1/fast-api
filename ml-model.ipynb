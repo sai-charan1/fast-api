{
 "cells": [
  {
   "cell_type": "code",
   "execution_count": 2,
   "id": "7ba94691",
   "metadata": {},
   "outputs": [],
   "source": [
    "import pandas as pd\n",
    "from sklearn.ensemble import RandomForestClassifier\n",
    "from sklearn.model_selection import train_test_split\n",
    "from sklearn.preprocessing import OneHotEncoder\n",
    "from sklearn.pipeline import Pipeline\n",
    "from sklearn.compose import ColumnTransformer\n",
    "from sklearn.metrics import classification_report, accuracy_score\n",
    "import numpy as np"
   ]
  },
  {
   "cell_type": "code",
   "execution_count": 3,
   "id": "0f7e2e7e",
   "metadata": {},
   "outputs": [],
   "source": [
    "df = pd.read_csv(r'D:\\Projects\\fast-api\\insurance.csv')"
   ]
  },
  {
   "cell_type": "code",
   "execution_count": 4,
   "id": "2cdf89f8",
   "metadata": {},
   "outputs": [
    {
     "data": {
      "text/html": [
       "<div>\n",
       "<style scoped>\n",
       "    .dataframe tbody tr th:only-of-type {\n",
       "        vertical-align: middle;\n",
       "    }\n",
       "\n",
       "    .dataframe tbody tr th {\n",
       "        vertical-align: top;\n",
       "    }\n",
       "\n",
       "    .dataframe thead th {\n",
       "        text-align: right;\n",
       "    }\n",
       "</style>\n",
       "<table border=\"1\" class=\"dataframe\">\n",
       "  <thead>\n",
       "    <tr style=\"text-align: right;\">\n",
       "      <th></th>\n",
       "      <th>age</th>\n",
       "      <th>weight</th>\n",
       "      <th>height</th>\n",
       "      <th>income_lpa</th>\n",
       "      <th>smoker</th>\n",
       "      <th>city</th>\n",
       "      <th>occupation</th>\n",
       "      <th>insurance_premium_category</th>\n",
       "    </tr>\n",
       "  </thead>\n",
       "  <tbody>\n",
       "    <tr>\n",
       "      <th>51</th>\n",
       "      <td>45</td>\n",
       "      <td>101.9</td>\n",
       "      <td>1.62</td>\n",
       "      <td>28.95</td>\n",
       "      <td>True</td>\n",
       "      <td>Jaipur</td>\n",
       "      <td>private_job</td>\n",
       "      <td>High</td>\n",
       "    </tr>\n",
       "    <tr>\n",
       "      <th>68</th>\n",
       "      <td>20</td>\n",
       "      <td>80.3</td>\n",
       "      <td>1.87</td>\n",
       "      <td>0.68</td>\n",
       "      <td>False</td>\n",
       "      <td>Lucknow</td>\n",
       "      <td>student</td>\n",
       "      <td>Low</td>\n",
       "    </tr>\n",
       "    <tr>\n",
       "      <th>66</th>\n",
       "      <td>18</td>\n",
       "      <td>63.9</td>\n",
       "      <td>1.59</td>\n",
       "      <td>3.23</td>\n",
       "      <td>False</td>\n",
       "      <td>Indore</td>\n",
       "      <td>student</td>\n",
       "      <td>Low</td>\n",
       "    </tr>\n",
       "    <tr>\n",
       "      <th>41</th>\n",
       "      <td>64</td>\n",
       "      <td>59.8</td>\n",
       "      <td>1.63</td>\n",
       "      <td>3.87</td>\n",
       "      <td>False</td>\n",
       "      <td>Mumbai</td>\n",
       "      <td>retired</td>\n",
       "      <td>Medium</td>\n",
       "    </tr>\n",
       "    <tr>\n",
       "      <th>84</th>\n",
       "      <td>75</td>\n",
       "      <td>86.2</td>\n",
       "      <td>1.73</td>\n",
       "      <td>0.62</td>\n",
       "      <td>True</td>\n",
       "      <td>Jaipur</td>\n",
       "      <td>retired</td>\n",
       "      <td>High</td>\n",
       "    </tr>\n",
       "  </tbody>\n",
       "</table>\n",
       "</div>"
      ],
      "text/plain": [
       "    age  weight  height  income_lpa  smoker     city   occupation  \\\n",
       "51   45   101.9    1.62       28.95    True   Jaipur  private_job   \n",
       "68   20    80.3    1.87        0.68   False  Lucknow      student   \n",
       "66   18    63.9    1.59        3.23   False   Indore      student   \n",
       "41   64    59.8    1.63        3.87   False   Mumbai      retired   \n",
       "84   75    86.2    1.73        0.62    True   Jaipur      retired   \n",
       "\n",
       "   insurance_premium_category  \n",
       "51                       High  \n",
       "68                        Low  \n",
       "66                        Low  \n",
       "41                     Medium  \n",
       "84                       High  "
      ]
     },
     "execution_count": 4,
     "metadata": {},
     "output_type": "execute_result"
    }
   ],
   "source": [
    "df.sample(5)"
   ]
  },
  {
   "cell_type": "code",
   "execution_count": 5,
   "id": "6da9c87e",
   "metadata": {},
   "outputs": [
    {
     "data": {
      "text/plain": [
       "array(['retired', 'freelancer', 'student', 'government_job',\n",
       "       'business_owner', 'unemployed', 'private_job'], dtype=object)"
      ]
     },
     "execution_count": 5,
     "metadata": {},
     "output_type": "execute_result"
    }
   ],
   "source": [
    "df['occupation'].unique()"
   ]
  },
  {
   "cell_type": "code",
   "execution_count": 6,
   "id": "663bcd16",
   "metadata": {},
   "outputs": [],
   "source": [
    "df_feat = df.copy()"
   ]
  },
  {
   "cell_type": "code",
   "execution_count": 7,
   "id": "7d668778",
   "metadata": {},
   "outputs": [],
   "source": [
    "# Feature 1: BMI\n",
    "df_feat[\"bmi\"] = df_feat[\"weight\"] / (df_feat[\"height\"] ** 2)"
   ]
  },
  {
   "cell_type": "code",
   "execution_count": 8,
   "id": "af8e1876",
   "metadata": {},
   "outputs": [],
   "source": [
    "# Feature 2: Age Group\n",
    "def age_group(age):\n",
    "    if age < 25:\n",
    "        return \"young\"\n",
    "    elif age < 45:\n",
    "        return \"adult\"\n",
    "    elif age < 60:\n",
    "        return \"middle_aged\"\n",
    "    return \"senior\"\n",
    "     "
   ]
  },
  {
   "cell_type": "code",
   "execution_count": 9,
   "id": "7d6bfd4d",
   "metadata": {},
   "outputs": [],
   "source": [
    "df_feat[\"age_group\"] = df_feat[\"age\"].apply(age_group)"
   ]
  },
  {
   "cell_type": "code",
   "execution_count": 10,
   "id": "d8fee1e7",
   "metadata": {},
   "outputs": [],
   "source": [
    "# Feature 3: Lifestyle Risk\n",
    "def lifestyle_risk(row):\n",
    "    if row[\"smoker\"] and row[\"bmi\"] > 30:\n",
    "        return \"high\"\n",
    "    elif row[\"smoker\"] or row[\"bmi\"] > 27:\n",
    "        return \"medium\"\n",
    "    else:\n",
    "        return \"low\""
   ]
  },
  {
   "cell_type": "code",
   "execution_count": 11,
   "id": "1adf25d0",
   "metadata": {},
   "outputs": [],
   "source": [
    "df_feat[\"lifestyle_risk\"] = df_feat.apply(lifestyle_risk, axis=1)"
   ]
  },
  {
   "cell_type": "code",
   "execution_count": 12,
   "id": "727e5ddd",
   "metadata": {},
   "outputs": [],
   "source": [
    "tier_1_cities = [\"Mumbai\", \"Delhi\", \"Bangalore\", \"Chennai\", \"Kolkata\", \"Hyderabad\", \"Pune\"]\n",
    "tier_2_cities = [\n",
    "    \"Jaipur\", \"Chandigarh\", \"Indore\", \"Lucknow\", \"Patna\", \"Ranchi\", \"Visakhapatnam\", \"Coimbatore\",\n",
    "    \"Bhopal\", \"Nagpur\", \"Vadodara\", \"Surat\", \"Rajkot\", \"Jodhpur\", \"Raipur\", \"Amritsar\", \"Varanasi\",\n",
    "    \"Agra\", \"Dehradun\", \"Mysore\", \"Jabalpur\", \"Guwahati\", \"Thiruvananthapuram\", \"Ludhiana\", \"Nashik\",\n",
    "    \"Allahabad\", \"Udaipur\", \"Aurangabad\", \"Hubli\", \"Belgaum\", \"Salem\", \"Vijayawada\", \"Tiruchirappalli\",\n",
    "    \"Bhavnagar\", \"Gwalior\", \"Dhanbad\", \"Bareilly\", \"Aligarh\", \"Gaya\", \"Kozhikode\", \"Warangal\",\n",
    "    \"Kolhapur\", \"Bilaspur\", \"Jalandhar\", \"Noida\", \"Guntur\", \"Asansol\", \"Siliguri\"\n",
    "]\n",
    "   "
   ]
  },
  {
   "cell_type": "code",
   "execution_count": 13,
   "id": "163c6e22",
   "metadata": {},
   "outputs": [],
   "source": [
    "# Feature 4: City Tier\n",
    "def city_tier(city):\n",
    "    if city in tier_1_cities:\n",
    "        return 1\n",
    "    elif city in tier_2_cities:\n",
    "        return 2\n",
    "    else:\n",
    "        return 3\n",
    "     "
   ]
  },
  {
   "cell_type": "code",
   "execution_count": 14,
   "id": "fd9c205b",
   "metadata": {},
   "outputs": [],
   "source": [
    "df_feat[\"city_tier\"] = df_feat[\"city\"].apply(city_tier)\n",
    "     "
   ]
  },
  {
   "cell_type": "code",
   "execution_count": 15,
   "id": "895e3287",
   "metadata": {},
   "outputs": [
    {
     "data": {
      "text/html": [
       "<div>\n",
       "<style scoped>\n",
       "    .dataframe tbody tr th:only-of-type {\n",
       "        vertical-align: middle;\n",
       "    }\n",
       "\n",
       "    .dataframe tbody tr th {\n",
       "        vertical-align: top;\n",
       "    }\n",
       "\n",
       "    .dataframe thead th {\n",
       "        text-align: right;\n",
       "    }\n",
       "</style>\n",
       "<table border=\"1\" class=\"dataframe\">\n",
       "  <thead>\n",
       "    <tr style=\"text-align: right;\">\n",
       "      <th></th>\n",
       "      <th>income_lpa</th>\n",
       "      <th>occupation</th>\n",
       "      <th>bmi</th>\n",
       "      <th>age_group</th>\n",
       "      <th>lifestyle_risk</th>\n",
       "      <th>city_tier</th>\n",
       "      <th>insurance_premium_category</th>\n",
       "    </tr>\n",
       "  </thead>\n",
       "  <tbody>\n",
       "    <tr>\n",
       "      <th>70</th>\n",
       "      <td>0.57</td>\n",
       "      <td>retired</td>\n",
       "      <td>36.694215</td>\n",
       "      <td>senior</td>\n",
       "      <td>medium</td>\n",
       "      <td>2</td>\n",
       "      <td>High</td>\n",
       "    </tr>\n",
       "    <tr>\n",
       "      <th>59</th>\n",
       "      <td>1.13</td>\n",
       "      <td>retired</td>\n",
       "      <td>35.835044</td>\n",
       "      <td>senior</td>\n",
       "      <td>medium</td>\n",
       "      <td>2</td>\n",
       "      <td>High</td>\n",
       "    </tr>\n",
       "    <tr>\n",
       "      <th>54</th>\n",
       "      <td>3.32</td>\n",
       "      <td>retired</td>\n",
       "      <td>21.025423</td>\n",
       "      <td>senior</td>\n",
       "      <td>medium</td>\n",
       "      <td>2</td>\n",
       "      <td>High</td>\n",
       "    </tr>\n",
       "    <tr>\n",
       "      <th>63</th>\n",
       "      <td>41.66</td>\n",
       "      <td>business_owner</td>\n",
       "      <td>21.525178</td>\n",
       "      <td>middle_aged</td>\n",
       "      <td>medium</td>\n",
       "      <td>2</td>\n",
       "      <td>High</td>\n",
       "    </tr>\n",
       "    <tr>\n",
       "      <th>39</th>\n",
       "      <td>11.99</td>\n",
       "      <td>unemployed</td>\n",
       "      <td>35.643424</td>\n",
       "      <td>middle_aged</td>\n",
       "      <td>high</td>\n",
       "      <td>1</td>\n",
       "      <td>High</td>\n",
       "    </tr>\n",
       "  </tbody>\n",
       "</table>\n",
       "</div>"
      ],
      "text/plain": [
       "    income_lpa      occupation        bmi    age_group lifestyle_risk  \\\n",
       "70        0.57         retired  36.694215       senior         medium   \n",
       "59        1.13         retired  35.835044       senior         medium   \n",
       "54        3.32         retired  21.025423       senior         medium   \n",
       "63       41.66  business_owner  21.525178  middle_aged         medium   \n",
       "39       11.99      unemployed  35.643424  middle_aged           high   \n",
       "\n",
       "    city_tier insurance_premium_category  \n",
       "70          2                       High  \n",
       "59          2                       High  \n",
       "54          2                       High  \n",
       "63          2                       High  \n",
       "39          1                       High  "
      ]
     },
     "execution_count": 15,
     "metadata": {},
     "output_type": "execute_result"
    }
   ],
   "source": [
    "df_feat.drop(columns=['age', 'weight', 'height', 'smoker', 'city'])[['income_lpa', 'occupation', 'bmi', 'age_group', 'lifestyle_risk', 'city_tier', 'insurance_premium_category']].sample(5)\n",
    "  "
   ]
  },
  {
   "cell_type": "code",
   "execution_count": 16,
   "id": "833fe674",
   "metadata": {},
   "outputs": [],
   "source": [
    "# Select features and target\n",
    "X = df_feat[[\"bmi\", \"age_group\", \"lifestyle_risk\", \"city_tier\", \"income_lpa\", \"occupation\"]]\n",
    "y = df_feat[\"insurance_premium_category\"]\n"
   ]
  },
  {
   "cell_type": "code",
   "execution_count": 18,
   "id": "07884a44",
   "metadata": {},
   "outputs": [
    {
     "data": {
      "text/html": [
       "<div>\n",
       "<style scoped>\n",
       "    .dataframe tbody tr th:only-of-type {\n",
       "        vertical-align: middle;\n",
       "    }\n",
       "\n",
       "    .dataframe tbody tr th {\n",
       "        vertical-align: top;\n",
       "    }\n",
       "\n",
       "    .dataframe thead th {\n",
       "        text-align: right;\n",
       "    }\n",
       "</style>\n",
       "<table border=\"1\" class=\"dataframe\">\n",
       "  <thead>\n",
       "    <tr style=\"text-align: right;\">\n",
       "      <th></th>\n",
       "      <th>bmi</th>\n",
       "      <th>age_group</th>\n",
       "      <th>lifestyle_risk</th>\n",
       "      <th>city_tier</th>\n",
       "      <th>income_lpa</th>\n",
       "      <th>occupation</th>\n",
       "    </tr>\n",
       "  </thead>\n",
       "  <tbody>\n",
       "    <tr>\n",
       "      <th>0</th>\n",
       "      <td>49.227482</td>\n",
       "      <td>senior</td>\n",
       "      <td>medium</td>\n",
       "      <td>2</td>\n",
       "      <td>2.92000</td>\n",
       "      <td>retired</td>\n",
       "    </tr>\n",
       "    <tr>\n",
       "      <th>1</th>\n",
       "      <td>30.189017</td>\n",
       "      <td>adult</td>\n",
       "      <td>medium</td>\n",
       "      <td>1</td>\n",
       "      <td>34.28000</td>\n",
       "      <td>freelancer</td>\n",
       "    </tr>\n",
       "    <tr>\n",
       "      <th>2</th>\n",
       "      <td>21.118382</td>\n",
       "      <td>adult</td>\n",
       "      <td>low</td>\n",
       "      <td>2</td>\n",
       "      <td>36.64000</td>\n",
       "      <td>freelancer</td>\n",
       "    </tr>\n",
       "    <tr>\n",
       "      <th>3</th>\n",
       "      <td>45.535900</td>\n",
       "      <td>young</td>\n",
       "      <td>high</td>\n",
       "      <td>1</td>\n",
       "      <td>3.34000</td>\n",
       "      <td>student</td>\n",
       "    </tr>\n",
       "    <tr>\n",
       "      <th>4</th>\n",
       "      <td>24.296875</td>\n",
       "      <td>senior</td>\n",
       "      <td>medium</td>\n",
       "      <td>2</td>\n",
       "      <td>3.94000</td>\n",
       "      <td>retired</td>\n",
       "    </tr>\n",
       "    <tr>\n",
       "      <th>...</th>\n",
       "      <td>...</td>\n",
       "      <td>...</td>\n",
       "      <td>...</td>\n",
       "      <td>...</td>\n",
       "      <td>...</td>\n",
       "      <td>...</td>\n",
       "    </tr>\n",
       "    <tr>\n",
       "      <th>95</th>\n",
       "      <td>21.420747</td>\n",
       "      <td>adult</td>\n",
       "      <td>low</td>\n",
       "      <td>2</td>\n",
       "      <td>19.64000</td>\n",
       "      <td>business_owner</td>\n",
       "    </tr>\n",
       "    <tr>\n",
       "      <th>96</th>\n",
       "      <td>47.984483</td>\n",
       "      <td>adult</td>\n",
       "      <td>medium</td>\n",
       "      <td>1</td>\n",
       "      <td>34.01000</td>\n",
       "      <td>private_job</td>\n",
       "    </tr>\n",
       "    <tr>\n",
       "      <th>97</th>\n",
       "      <td>18.765432</td>\n",
       "      <td>middle_aged</td>\n",
       "      <td>low</td>\n",
       "      <td>1</td>\n",
       "      <td>44.86000</td>\n",
       "      <td>freelancer</td>\n",
       "    </tr>\n",
       "    <tr>\n",
       "      <th>98</th>\n",
       "      <td>30.521676</td>\n",
       "      <td>adult</td>\n",
       "      <td>medium</td>\n",
       "      <td>1</td>\n",
       "      <td>28.30000</td>\n",
       "      <td>business_owner</td>\n",
       "    </tr>\n",
       "    <tr>\n",
       "      <th>99</th>\n",
       "      <td>27.688778</td>\n",
       "      <td>adult</td>\n",
       "      <td>medium</td>\n",
       "      <td>1</td>\n",
       "      <td>28.16664</td>\n",
       "      <td>government_job</td>\n",
       "    </tr>\n",
       "  </tbody>\n",
       "</table>\n",
       "<p>100 rows × 6 columns</p>\n",
       "</div>"
      ],
      "text/plain": [
       "          bmi    age_group lifestyle_risk  city_tier  income_lpa  \\\n",
       "0   49.227482       senior         medium          2     2.92000   \n",
       "1   30.189017        adult         medium          1    34.28000   \n",
       "2   21.118382        adult            low          2    36.64000   \n",
       "3   45.535900        young           high          1     3.34000   \n",
       "4   24.296875       senior         medium          2     3.94000   \n",
       "..        ...          ...            ...        ...         ...   \n",
       "95  21.420747        adult            low          2    19.64000   \n",
       "96  47.984483        adult         medium          1    34.01000   \n",
       "97  18.765432  middle_aged            low          1    44.86000   \n",
       "98  30.521676        adult         medium          1    28.30000   \n",
       "99  27.688778        adult         medium          1    28.16664   \n",
       "\n",
       "        occupation  \n",
       "0          retired  \n",
       "1       freelancer  \n",
       "2       freelancer  \n",
       "3          student  \n",
       "4          retired  \n",
       "..             ...  \n",
       "95  business_owner  \n",
       "96     private_job  \n",
       "97      freelancer  \n",
       "98  business_owner  \n",
       "99  government_job  \n",
       "\n",
       "[100 rows x 6 columns]"
      ]
     },
     "execution_count": 18,
     "metadata": {},
     "output_type": "execute_result"
    }
   ],
   "source": [
    "X"
   ]
  },
  {
   "cell_type": "code",
   "execution_count": 19,
   "id": "1aafd21d",
   "metadata": {},
   "outputs": [
    {
     "data": {
      "text/plain": [
       "0       High\n",
       "1        Low\n",
       "2        Low\n",
       "3     Medium\n",
       "4       High\n",
       "       ...  \n",
       "95       Low\n",
       "96       Low\n",
       "97       Low\n",
       "98       Low\n",
       "99       Low\n",
       "Name: insurance_premium_category, Length: 100, dtype: object"
      ]
     },
     "execution_count": 19,
     "metadata": {},
     "output_type": "execute_result"
    }
   ],
   "source": [
    "y"
   ]
  },
  {
   "cell_type": "code",
   "execution_count": 20,
   "id": "f42a833e",
   "metadata": {},
   "outputs": [],
   "source": [
    "# Define categorical and numeric features\n",
    "categorical_features = [\"age_group\", \"lifestyle_risk\", \"occupation\", \"city_tier\"]\n",
    "numeric_features = [\"bmi\", \"income_lpa\"]\n",
    "     "
   ]
  },
  {
   "cell_type": "code",
   "execution_count": 21,
   "id": "465762b0",
   "metadata": {},
   "outputs": [],
   "source": [
    "# Create column transformer for OHE\n",
    "preprocessor = ColumnTransformer(\n",
    "    transformers=[\n",
    "        (\"cat\", OneHotEncoder(), categorical_features),\n",
    "        (\"num\", \"passthrough\", numeric_features)\n",
    "    ]\n",
    ")"
   ]
  },
  {
   "cell_type": "code",
   "execution_count": 22,
   "id": "63041367",
   "metadata": {},
   "outputs": [],
   "source": [
    "# Create a pipeline with preprocessing and random forest classifier\n",
    "pipeline = Pipeline(steps=[\n",
    "    (\"preprocessor\", preprocessor),\n",
    "    (\"classifier\", RandomForestClassifier(random_state=42))\n",
    "])"
   ]
  },
  {
   "cell_type": "code",
   "execution_count": 23,
   "id": "b07733ab",
   "metadata": {},
   "outputs": [
    {
     "data": {
      "text/html": [
       "<style>#sk-container-id-1 {color: black;}#sk-container-id-1 pre{padding: 0;}#sk-container-id-1 div.sk-toggleable {background-color: white;}#sk-container-id-1 label.sk-toggleable__label {cursor: pointer;display: block;width: 100%;margin-bottom: 0;padding: 0.3em;box-sizing: border-box;text-align: center;}#sk-container-id-1 label.sk-toggleable__label-arrow:before {content: \"▸\";float: left;margin-right: 0.25em;color: #696969;}#sk-container-id-1 label.sk-toggleable__label-arrow:hover:before {color: black;}#sk-container-id-1 div.sk-estimator:hover label.sk-toggleable__label-arrow:before {color: black;}#sk-container-id-1 div.sk-toggleable__content {max-height: 0;max-width: 0;overflow: hidden;text-align: left;background-color: #f0f8ff;}#sk-container-id-1 div.sk-toggleable__content pre {margin: 0.2em;color: black;border-radius: 0.25em;background-color: #f0f8ff;}#sk-container-id-1 input.sk-toggleable__control:checked~div.sk-toggleable__content {max-height: 200px;max-width: 100%;overflow: auto;}#sk-container-id-1 input.sk-toggleable__control:checked~label.sk-toggleable__label-arrow:before {content: \"▾\";}#sk-container-id-1 div.sk-estimator input.sk-toggleable__control:checked~label.sk-toggleable__label {background-color: #d4ebff;}#sk-container-id-1 div.sk-label input.sk-toggleable__control:checked~label.sk-toggleable__label {background-color: #d4ebff;}#sk-container-id-1 input.sk-hidden--visually {border: 0;clip: rect(1px 1px 1px 1px);clip: rect(1px, 1px, 1px, 1px);height: 1px;margin: -1px;overflow: hidden;padding: 0;position: absolute;width: 1px;}#sk-container-id-1 div.sk-estimator {font-family: monospace;background-color: #f0f8ff;border: 1px dotted black;border-radius: 0.25em;box-sizing: border-box;margin-bottom: 0.5em;}#sk-container-id-1 div.sk-estimator:hover {background-color: #d4ebff;}#sk-container-id-1 div.sk-parallel-item::after {content: \"\";width: 100%;border-bottom: 1px solid gray;flex-grow: 1;}#sk-container-id-1 div.sk-label:hover label.sk-toggleable__label {background-color: #d4ebff;}#sk-container-id-1 div.sk-serial::before {content: \"\";position: absolute;border-left: 1px solid gray;box-sizing: border-box;top: 0;bottom: 0;left: 50%;z-index: 0;}#sk-container-id-1 div.sk-serial {display: flex;flex-direction: column;align-items: center;background-color: white;padding-right: 0.2em;padding-left: 0.2em;position: relative;}#sk-container-id-1 div.sk-item {position: relative;z-index: 1;}#sk-container-id-1 div.sk-parallel {display: flex;align-items: stretch;justify-content: center;background-color: white;position: relative;}#sk-container-id-1 div.sk-item::before, #sk-container-id-1 div.sk-parallel-item::before {content: \"\";position: absolute;border-left: 1px solid gray;box-sizing: border-box;top: 0;bottom: 0;left: 50%;z-index: -1;}#sk-container-id-1 div.sk-parallel-item {display: flex;flex-direction: column;z-index: 1;position: relative;background-color: white;}#sk-container-id-1 div.sk-parallel-item:first-child::after {align-self: flex-end;width: 50%;}#sk-container-id-1 div.sk-parallel-item:last-child::after {align-self: flex-start;width: 50%;}#sk-container-id-1 div.sk-parallel-item:only-child::after {width: 0;}#sk-container-id-1 div.sk-dashed-wrapped {border: 1px dashed gray;margin: 0 0.4em 0.5em 0.4em;box-sizing: border-box;padding-bottom: 0.4em;background-color: white;}#sk-container-id-1 div.sk-label label {font-family: monospace;font-weight: bold;display: inline-block;line-height: 1.2em;}#sk-container-id-1 div.sk-label-container {text-align: center;}#sk-container-id-1 div.sk-container {/* jupyter's `normalize.less` sets `[hidden] { display: none; }` but bootstrap.min.css set `[hidden] { display: none !important; }` so we also need the `!important` here to be able to override the default hidden behavior on the sphinx rendered scikit-learn.org. See: https://github.com/scikit-learn/scikit-learn/issues/21755 */display: inline-block !important;position: relative;}#sk-container-id-1 div.sk-text-repr-fallback {display: none;}</style><div id=\"sk-container-id-1\" class=\"sk-top-container\"><div class=\"sk-text-repr-fallback\"><pre>Pipeline(steps=[(&#x27;preprocessor&#x27;,\n",
       "                 ColumnTransformer(transformers=[(&#x27;cat&#x27;, OneHotEncoder(),\n",
       "                                                  [&#x27;age_group&#x27;,\n",
       "                                                   &#x27;lifestyle_risk&#x27;,\n",
       "                                                   &#x27;occupation&#x27;, &#x27;city_tier&#x27;]),\n",
       "                                                 (&#x27;num&#x27;, &#x27;passthrough&#x27;,\n",
       "                                                  [&#x27;bmi&#x27;, &#x27;income_lpa&#x27;])])),\n",
       "                (&#x27;classifier&#x27;, RandomForestClassifier(random_state=42))])</pre><b>In a Jupyter environment, please rerun this cell to show the HTML representation or trust the notebook. <br />On GitHub, the HTML representation is unable to render, please try loading this page with nbviewer.org.</b></div><div class=\"sk-container\" hidden><div class=\"sk-item sk-dashed-wrapped\"><div class=\"sk-label-container\"><div class=\"sk-label sk-toggleable\"><input class=\"sk-toggleable__control sk-hidden--visually\" id=\"sk-estimator-id-1\" type=\"checkbox\" ><label for=\"sk-estimator-id-1\" class=\"sk-toggleable__label sk-toggleable__label-arrow\">Pipeline</label><div class=\"sk-toggleable__content\"><pre>Pipeline(steps=[(&#x27;preprocessor&#x27;,\n",
       "                 ColumnTransformer(transformers=[(&#x27;cat&#x27;, OneHotEncoder(),\n",
       "                                                  [&#x27;age_group&#x27;,\n",
       "                                                   &#x27;lifestyle_risk&#x27;,\n",
       "                                                   &#x27;occupation&#x27;, &#x27;city_tier&#x27;]),\n",
       "                                                 (&#x27;num&#x27;, &#x27;passthrough&#x27;,\n",
       "                                                  [&#x27;bmi&#x27;, &#x27;income_lpa&#x27;])])),\n",
       "                (&#x27;classifier&#x27;, RandomForestClassifier(random_state=42))])</pre></div></div></div><div class=\"sk-serial\"><div class=\"sk-item sk-dashed-wrapped\"><div class=\"sk-label-container\"><div class=\"sk-label sk-toggleable\"><input class=\"sk-toggleable__control sk-hidden--visually\" id=\"sk-estimator-id-2\" type=\"checkbox\" ><label for=\"sk-estimator-id-2\" class=\"sk-toggleable__label sk-toggleable__label-arrow\">preprocessor: ColumnTransformer</label><div class=\"sk-toggleable__content\"><pre>ColumnTransformer(transformers=[(&#x27;cat&#x27;, OneHotEncoder(),\n",
       "                                 [&#x27;age_group&#x27;, &#x27;lifestyle_risk&#x27;, &#x27;occupation&#x27;,\n",
       "                                  &#x27;city_tier&#x27;]),\n",
       "                                (&#x27;num&#x27;, &#x27;passthrough&#x27;, [&#x27;bmi&#x27;, &#x27;income_lpa&#x27;])])</pre></div></div></div><div class=\"sk-parallel\"><div class=\"sk-parallel-item\"><div class=\"sk-item\"><div class=\"sk-label-container\"><div class=\"sk-label sk-toggleable\"><input class=\"sk-toggleable__control sk-hidden--visually\" id=\"sk-estimator-id-3\" type=\"checkbox\" ><label for=\"sk-estimator-id-3\" class=\"sk-toggleable__label sk-toggleable__label-arrow\">cat</label><div class=\"sk-toggleable__content\"><pre>[&#x27;age_group&#x27;, &#x27;lifestyle_risk&#x27;, &#x27;occupation&#x27;, &#x27;city_tier&#x27;]</pre></div></div></div><div class=\"sk-serial\"><div class=\"sk-item\"><div class=\"sk-estimator sk-toggleable\"><input class=\"sk-toggleable__control sk-hidden--visually\" id=\"sk-estimator-id-4\" type=\"checkbox\" ><label for=\"sk-estimator-id-4\" class=\"sk-toggleable__label sk-toggleable__label-arrow\">OneHotEncoder</label><div class=\"sk-toggleable__content\"><pre>OneHotEncoder()</pre></div></div></div></div></div></div><div class=\"sk-parallel-item\"><div class=\"sk-item\"><div class=\"sk-label-container\"><div class=\"sk-label sk-toggleable\"><input class=\"sk-toggleable__control sk-hidden--visually\" id=\"sk-estimator-id-5\" type=\"checkbox\" ><label for=\"sk-estimator-id-5\" class=\"sk-toggleable__label sk-toggleable__label-arrow\">num</label><div class=\"sk-toggleable__content\"><pre>[&#x27;bmi&#x27;, &#x27;income_lpa&#x27;]</pre></div></div></div><div class=\"sk-serial\"><div class=\"sk-item\"><div class=\"sk-estimator sk-toggleable\"><input class=\"sk-toggleable__control sk-hidden--visually\" id=\"sk-estimator-id-6\" type=\"checkbox\" ><label for=\"sk-estimator-id-6\" class=\"sk-toggleable__label sk-toggleable__label-arrow\">passthrough</label><div class=\"sk-toggleable__content\"><pre>passthrough</pre></div></div></div></div></div></div></div></div><div class=\"sk-item\"><div class=\"sk-estimator sk-toggleable\"><input class=\"sk-toggleable__control sk-hidden--visually\" id=\"sk-estimator-id-7\" type=\"checkbox\" ><label for=\"sk-estimator-id-7\" class=\"sk-toggleable__label sk-toggleable__label-arrow\">RandomForestClassifier</label><div class=\"sk-toggleable__content\"><pre>RandomForestClassifier(random_state=42)</pre></div></div></div></div></div></div></div>"
      ],
      "text/plain": [
       "Pipeline(steps=[('preprocessor',\n",
       "                 ColumnTransformer(transformers=[('cat', OneHotEncoder(),\n",
       "                                                  ['age_group',\n",
       "                                                   'lifestyle_risk',\n",
       "                                                   'occupation', 'city_tier']),\n",
       "                                                 ('num', 'passthrough',\n",
       "                                                  ['bmi', 'income_lpa'])])),\n",
       "                ('classifier', RandomForestClassifier(random_state=42))])"
      ]
     },
     "execution_count": 23,
     "metadata": {},
     "output_type": "execute_result"
    }
   ],
   "source": [
    "# Split data and train model\n",
    "X_train, X_test, y_train, y_test = train_test_split(X, y, test_size=0.2, random_state=1)\n",
    "pipeline.fit(X_train, y_train)\n",
    "\n"
   ]
  },
  {
   "cell_type": "code",
   "execution_count": 24,
   "id": "1f4cfdff",
   "metadata": {},
   "outputs": [
    {
     "data": {
      "text/plain": [
       "0.9"
      ]
     },
     "execution_count": 24,
     "metadata": {},
     "output_type": "execute_result"
    }
   ],
   "source": [
    "# Predict and evaluate\n",
    "y_pred = pipeline.predict(X_test)\n",
    "accuracy_score(y_test, y_pred)\n",
    "   "
   ]
  },
  {
   "cell_type": "code",
   "execution_count": 25,
   "id": "c3a0c73f",
   "metadata": {},
   "outputs": [
    {
     "data": {
      "text/html": [
       "<div>\n",
       "<style scoped>\n",
       "    .dataframe tbody tr th:only-of-type {\n",
       "        vertical-align: middle;\n",
       "    }\n",
       "\n",
       "    .dataframe tbody tr th {\n",
       "        vertical-align: top;\n",
       "    }\n",
       "\n",
       "    .dataframe thead th {\n",
       "        text-align: right;\n",
       "    }\n",
       "</style>\n",
       "<table border=\"1\" class=\"dataframe\">\n",
       "  <thead>\n",
       "    <tr style=\"text-align: right;\">\n",
       "      <th></th>\n",
       "      <th>bmi</th>\n",
       "      <th>age_group</th>\n",
       "      <th>lifestyle_risk</th>\n",
       "      <th>city_tier</th>\n",
       "      <th>income_lpa</th>\n",
       "      <th>occupation</th>\n",
       "    </tr>\n",
       "  </thead>\n",
       "  <tbody>\n",
       "    <tr>\n",
       "      <th>36</th>\n",
       "      <td>21.713266</td>\n",
       "      <td>senior</td>\n",
       "      <td>low</td>\n",
       "      <td>1</td>\n",
       "      <td>0.53</td>\n",
       "      <td>retired</td>\n",
       "    </tr>\n",
       "    <tr>\n",
       "      <th>92</th>\n",
       "      <td>18.319942</td>\n",
       "      <td>adult</td>\n",
       "      <td>medium</td>\n",
       "      <td>2</td>\n",
       "      <td>30.00</td>\n",
       "      <td>government_job</td>\n",
       "    </tr>\n",
       "    <tr>\n",
       "      <th>10</th>\n",
       "      <td>22.949982</td>\n",
       "      <td>adult</td>\n",
       "      <td>medium</td>\n",
       "      <td>1</td>\n",
       "      <td>32.78</td>\n",
       "      <td>business_owner</td>\n",
       "    </tr>\n",
       "    <tr>\n",
       "      <th>52</th>\n",
       "      <td>47.344720</td>\n",
       "      <td>young</td>\n",
       "      <td>medium</td>\n",
       "      <td>2</td>\n",
       "      <td>2.96</td>\n",
       "      <td>student</td>\n",
       "    </tr>\n",
       "    <tr>\n",
       "      <th>56</th>\n",
       "      <td>42.414152</td>\n",
       "      <td>young</td>\n",
       "      <td>high</td>\n",
       "      <td>1</td>\n",
       "      <td>2.86</td>\n",
       "      <td>student</td>\n",
       "    </tr>\n",
       "  </tbody>\n",
       "</table>\n",
       "</div>"
      ],
      "text/plain": [
       "          bmi age_group lifestyle_risk  city_tier  income_lpa      occupation\n",
       "36  21.713266    senior            low          1        0.53         retired\n",
       "92  18.319942     adult         medium          2       30.00  government_job\n",
       "10  22.949982     adult         medium          1       32.78  business_owner\n",
       "52  47.344720     young         medium          2        2.96         student\n",
       "56  42.414152     young           high          1        2.86         student"
      ]
     },
     "execution_count": 25,
     "metadata": {},
     "output_type": "execute_result"
    }
   ],
   "source": [
    "X_test.sample(5)\n"
   ]
  },
  {
   "cell_type": "code",
   "execution_count": 26,
   "id": "65748379",
   "metadata": {},
   "outputs": [],
   "source": [
    "import pickle\n",
    "\n",
    "# Save the trained pipeline using pickle\n",
    "pickle_model_path = \"model.pkl\"\n",
    "with open(pickle_model_path, \"wb\") as f:\n",
    "    pickle.dump(pipeline, f)\n",
    "\n",
    " "
   ]
  },
  {
   "cell_type": "code",
   "execution_count": null,
   "id": "a9af8c3b",
   "metadata": {},
   "outputs": [],
   "source": []
  }
 ],
 "metadata": {
  "kernelspec": {
   "display_name": "venv",
   "language": "python",
   "name": "python3"
  },
  "language_info": {
   "codemirror_mode": {
    "name": "ipython",
    "version": 3
   },
   "file_extension": ".py",
   "mimetype": "text/x-python",
   "name": "python",
   "nbconvert_exporter": "python",
   "pygments_lexer": "ipython3",
   "version": "3.8.2"
  }
 },
 "nbformat": 4,
 "nbformat_minor": 5
}
